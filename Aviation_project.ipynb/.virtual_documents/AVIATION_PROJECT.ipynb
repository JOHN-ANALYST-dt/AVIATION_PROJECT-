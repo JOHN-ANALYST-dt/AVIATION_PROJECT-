

















#import the neccesary python libraries 
import pandas as pd
import numpy as np
import matplotlib.pyplot as plt






#import the file using pandas
#display the first 5 rows for us to see what is in the data
Aviation=pd.read_csv("AviationData.csv" ,encoding="latin-1", low_memory=False)
State=pd.read_csv("USState_Codes.csv" ,encoding="latin-1", low_memory=False)






Aviation.head(5)





#use tail() to print out the last 5 row data
Aviation.tail()








#we need to check out what kind of the data types we have in out data
Aviation.info()





#Aviation shape in rows and colmuns 
Aviation.shape





#rename the Event.Date to Date-time
Aviation.rename(columns={'Event.Date': 'Date_time'}, inplace=True)





total_rows=len(Aviation)
Missing_values=Aviation.isna().sum()*100/total_rows
print(Missing_values)





Aviation.drop(columns=["Air.carrier","Schedule","FAR.Description","Airport.Name","Airport.Code","Latitude","Longitude","Aircraft.Category"],inplace=True)





#find the shape
Aviation.shape





total=len(Aviation)
Missing_values=Aviation.isna().sum()*100/total
print(Missing_values)





#lets check for the duplicates from our Data
Aviation.duplicated().value_counts()








#print out the datatypes to see which fomulae to use in cleaning 
Aviation.info()





mode_value = Aviation['Make'].mode()[0]
Aviation['Make'] = Aviation['Make'].fillna(mode_value)



Aviation.isnull().sum()
